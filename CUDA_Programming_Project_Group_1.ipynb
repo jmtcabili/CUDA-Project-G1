{
  "nbformat": 4,
  "nbformat_minor": 0,
  "metadata": {
    "colab": {
      "provenance": [],
      "gpuType": "T4",
      "collapsed_sections": [
        "LGZ0YZ865bt5"
      ],
      "include_colab_link": true
    },
    "kernelspec": {
      "name": "python3",
      "display_name": "Python 3"
    },
    "language_info": {
      "name": "python"
    },
    "accelerator": "GPU"
  },
  "cells": [
    {
      "cell_type": "markdown",
      "metadata": {
        "id": "view-in-github",
        "colab_type": "text"
      },
      "source": [
        "<a href=\"https://colab.research.google.com/github/jmtcabili/CUDA-Project-G1/blob/main/CUDA_Programming_Project_Group_1.ipynb\" target=\"_parent\"><img src=\"https://colab.research.google.com/assets/colab-badge.svg\" alt=\"Open In Colab\"/></a>"
      ]
    },
    {
      "cell_type": "markdown",
      "source": [
        "Group 1:\n",
        "1. Johan Marlo T. Cabili\n",
        "2. Emma Celine Conception R. Cacatian\n",
        "3. Ashantie Louize B. Demanalata\n",
        "4. Geo Brian P. Hilomen"
      ],
      "metadata": {
        "id": "oVRW9AL0H4S-"
      }
    },
    {
      "cell_type": "markdown",
      "source": [
        "# Deep Dive: CUDA Programming Project"
      ],
      "metadata": {
        "id": "lYTR-FskHqGV"
      }
    },
    {
      "cell_type": "markdown",
      "source": [
        "Checking the GPU being utilized"
      ],
      "metadata": {
        "id": "M512Xj1BNexU"
      }
    },
    {
      "cell_type": "code",
      "source": [
        "gpu_info = !nvidia-smi\n",
        "gpu_info = '\\n'.join(gpu_info)\n",
        "if gpu_info.find('failed') >= 0:\n",
        "  print('Not connected to a GPU')\n",
        "else:\n",
        "  print(gpu_info)"
      ],
      "metadata": {
        "id": "I5r3_TElNVBg",
        "colab": {
          "base_uri": "https://localhost:8080/"
        },
        "outputId": "a70bc41f-c8d8-4b9d-ad6f-2383a073b594"
      },
      "execution_count": null,
      "outputs": [
        {
          "output_type": "stream",
          "name": "stdout",
          "text": [
            "Fri Feb 21 06:33:41 2025       \n",
            "+-----------------------------------------------------------------------------------------+\n",
            "| NVIDIA-SMI 550.54.15              Driver Version: 550.54.15      CUDA Version: 12.4     |\n",
            "|-----------------------------------------+------------------------+----------------------+\n",
            "| GPU  Name                 Persistence-M | Bus-Id          Disp.A | Volatile Uncorr. ECC |\n",
            "| Fan  Temp   Perf          Pwr:Usage/Cap |           Memory-Usage | GPU-Util  Compute M. |\n",
            "|                                         |                        |               MIG M. |\n",
            "|=========================================+========================+======================|\n",
            "|   0  Tesla T4                       Off |   00000000:00:04.0 Off |                    0 |\n",
            "| N/A   35C    P8              9W /   70W |       0MiB /  15360MiB |      0%      Default |\n",
            "|                                         |                        |                  N/A |\n",
            "+-----------------------------------------+------------------------+----------------------+\n",
            "                                                                                         \n",
            "+-----------------------------------------------------------------------------------------+\n",
            "| Processes:                                                                              |\n",
            "|  GPU   GI   CI        PID   Type   Process name                              GPU Memory |\n",
            "|        ID   ID                                                               Usage      |\n",
            "|=========================================================================================|\n",
            "|  No running processes found                                                             |\n",
            "+-----------------------------------------------------------------------------------------+\n"
          ]
        }
      ]
    },
    {
      "cell_type": "markdown",
      "source": [
        "## C Kernel"
      ],
      "metadata": {
        "id": "fZsSEscKJlxg"
      }
    },
    {
      "cell_type": "code",
      "execution_count": null,
      "metadata": {
        "colab": {
          "base_uri": "https://localhost:8080/"
        },
        "id": "oPIOuREGHdDu",
        "outputId": "9fe0464b-8f05-4f0b-9c7b-6f2378576f7d"
      },
      "outputs": [
        {
          "output_type": "stream",
          "name": "stdout",
          "text": [
            "Overwriting C_1DCONV.c\n"
          ]
        }
      ],
      "source": [
        "%%writefile C_1DCONV.c\n",
        "\n",
        "#include <stdio.h>\n",
        "#include <stdlib.h>\n",
        "#include <time.h>\n",
        "\n",
        "void Conv1D(size_t n, float* vec, float* out){\n",
        "  //tama ba na until n-2?\n",
        "  for (int i = 0; i < n-2; i++){\n",
        "    out[i] = (vec[i] + vec[i+1] + vec[i+2])/3.0f;\n",
        "  }\n",
        "}\n",
        "\n",
        "int main(){\n",
        "  const size_t ARRAY_SIZE = 1<<28;\n",
        "  const size_t ARRAY_BYTES = ARRAY_SIZE * (sizeof(float));\n",
        "  const size_t loops = 30;\n",
        "\n",
        "  float* vec, *out;\n",
        "  vec = (float*)malloc(ARRAY_BYTES);\n",
        "  out = (float*)malloc(ARRAY_BYTES);\n",
        "  clock_t start, end;\n",
        "\n",
        "  for (int i = 0; i < ARRAY_SIZE; i++){\n",
        "    vec[i] = (float)(i%3+1);\n",
        "    //range of values 1-3\n",
        "  }\n",
        "\n",
        "  Conv1D(ARRAY_SIZE, vec, out);\n",
        "  double elapse, time_taken;\n",
        "  elapse = 0.0f;\n",
        "  for (int i=0; i<loops; i++){\n",
        "    start = clock();\n",
        "    Conv1D(ARRAY_SIZE,vec, out);\n",
        "    end = clock();\n",
        "    time_taken = ((double)(end-start))*1E3/CLOCKS_PER_SEC;\n",
        "    elapse = elapse + time_taken;\n",
        "  }\n",
        "  printf(\"Function (in C) average time for %lu loops is %f milliseconds for array size %lu \\n\", loops, elapse / loops, ARRAY_SIZE);\n",
        "\tprintf(\"---Correctness Check: C---\\n\");\n",
        "\n",
        "  //error checking\n",
        "  size_t err_count = 0;\n",
        "  for (int i = 0; i<ARRAY_SIZE-2; i++){\n",
        "    if (out[i] != (vec[i]+vec[i+1]+vec[i+2])/3.0f){\n",
        "      err_count+=1;\n",
        "    }\n",
        "  }\n",
        "\n",
        "  printf(\"First 10 elements: \\n\");\n",
        "  for (int i = 0; i < 10; i++){\n",
        "    printf(\"%.2f\\n\", out[i]);\n",
        "  }\n",
        "  printf(\"...\\n...\\n...\\n\");\n",
        "\n",
        "  printf(\"Last 10 elements: \\n\");\n",
        "  for (int i = ARRAY_SIZE-1; i >ARRAY_SIZE-11; i--){\n",
        "    printf(\"%.2f\\n\", out[i]);\n",
        "  }\n",
        "\n",
        "  printf(\"Error count (C Program): %lu\\n\", err_count);\n",
        "  //expected output: all cells should be equal to 2.0\n",
        "\n",
        "  free(vec);\n",
        "  free(out);\n",
        "  return 0;\n",
        "\n",
        "}"
      ]
    },
    {
      "cell_type": "code",
      "source": [
        "%%shell\n",
        "gcc C_1DCONV.c -o C_1DConv\n"
      ],
      "metadata": {
        "colab": {
          "base_uri": "https://localhost:8080/"
        },
        "id": "kdhYnMaTNUzV",
        "outputId": "3b5b721a-581e-465c-dab5-a6b2225e36ea"
      },
      "execution_count": null,
      "outputs": [
        {
          "output_type": "execute_result",
          "data": {
            "text/plain": []
          },
          "metadata": {},
          "execution_count": 5
        }
      ]
    },
    {
      "cell_type": "code",
      "source": [
        "%%shell\n",
        "./C_1DConv"
      ],
      "metadata": {
        "colab": {
          "base_uri": "https://localhost:8080/"
        },
        "id": "IW2t6ztvNaup",
        "outputId": "33fe4e10-051a-4480-e521-bc64d08a960b"
      },
      "execution_count": null,
      "outputs": [
        {
          "output_type": "stream",
          "name": "stdout",
          "text": [
            "Function (in C) average time for 30 loops is 1069.611633 milliseconds for array size 268435456 \n",
            "---Correctness Check: C---\n",
            "First 10 elements: \n",
            "2.00\n",
            "2.00\n",
            "2.00\n",
            "2.00\n",
            "2.00\n",
            "2.00\n",
            "2.00\n",
            "2.00\n",
            "2.00\n",
            "2.00\n",
            "...\n",
            "...\n",
            "...\n",
            "Last 10 elements: \n",
            "0.00\n",
            "0.00\n",
            "2.00\n",
            "2.00\n",
            "2.00\n",
            "2.00\n",
            "2.00\n",
            "2.00\n",
            "2.00\n",
            "2.00\n",
            "Error count (C Program): 0\n"
          ]
        },
        {
          "output_type": "execute_result",
          "data": {
            "text/plain": []
          },
          "metadata": {},
          "execution_count": 6
        }
      ]
    },
    {
      "cell_type": "markdown",
      "source": [
        "## Unified Memory"
      ],
      "metadata": {
        "id": "wE8n1R_05Rbi"
      }
    },
    {
      "cell_type": "code",
      "source": [
        "%%writefile Conv1D.cu\n",
        "\n",
        "#include <stdio.h>\n",
        "#include <stdlib.h>\n",
        "\n",
        "// *** CUDA Conv1D Kernel\n",
        "\n",
        "__global__\n",
        "void Conv1D(size_t n, float* in, float* out){\n",
        "    int index = blockIdx.x * blockDim.x + threadIdx.x;\n",
        "    int stride = gridDim.x * blockDim.x;\n",
        "    for (int i = index; i < n - 2; i += stride) {\n",
        "        out[i] = (in[i] + in[i+1] + in[i+2])/3.0f;\n",
        "    }\n",
        "}\n",
        "\n",
        "int main(int argc, char** argv) {\n",
        "    const size_t ARRAY_SIZE = 1<<28;\n",
        "    const size_t ARRAY_BYTES = ARRAY_SIZE * sizeof(float);\n",
        "    const size_t loop = 1;\n",
        "\n",
        "    // Declare array\n",
        "    float *in, *out;\n",
        "    cudaMallocManaged(&in, ARRAY_BYTES);\n",
        "    cudaMallocManaged(&out, ARRAY_BYTES);\n",
        "\n",
        "    // Get GPU ID\n",
        "    int device = -1;\n",
        "    cudaGetDevice(&device);\n",
        "\n",
        "    // Initialize array\n",
        "    for (int i = 0; i < ARRAY_SIZE; i++){\n",
        "        in[i] = (float)(i%3+1);\n",
        "        //range of values 1-3\n",
        "    }\n",
        "\n",
        "    // Setup CUDA kernel\n",
        "    size_t numThreads = 1024;\n",
        "    size_t numBlocks = (ARRAY_SIZE + numThreads - 1) / numThreads;\n",
        "\n",
        "    printf(\"*** function = Conv1D\\n\");\n",
        "    printf(\"numElements = %lu\\n\", ARRAY_SIZE);\n",
        "    printf(\"numBlocks = %lu, numThreads = %lu\\n\", numBlocks, numThreads);\n",
        "\n",
        "    for (size_t i = 0; i < loop; i++)\n",
        "        Conv1D<<<numBlocks, numThreads>>> (ARRAY_SIZE, in, out);\n",
        "    // Barrier\n",
        "    cudaDeviceSynchronize();\n",
        "\n",
        "    // Error Checking Routine\n",
        "    size_t err_count = 0;\n",
        "    for (int i = 0; i<ARRAY_SIZE-2; i++){\n",
        "        if (out[i] != (in[i] + in[i+1] + in[i+2])/3.0f){\n",
        "            err_count+=1;\n",
        "        }\n",
        "    }\n",
        "    printf(\"Error count (CUDA Program): %lu\\n\", err_count);\n",
        "    //expected output: all cells should be equal to 2.0\n",
        "\n",
        "\n",
        "    printf(\"First 20 elements: \\n\");\n",
        "    for (int i = 0; i < 20; i++){\n",
        "        printf(\"%.2f\\n\", out[i]);\n",
        "    }\n",
        "    printf(\"...\\n...\\n...\\n\");\n",
        "\n",
        "    printf(\"Last 20 elements: \\n\");\n",
        "    for (int i = ARRAY_SIZE-20; i < ARRAY_SIZE; i++){\n",
        "        printf(\"%.2f\\n\", out[i]);\n",
        "    }\n",
        "\n",
        "    cudaFree(in);\n",
        "    cudaFree(out);\n",
        "\n",
        "    return 0;\n",
        "}"
      ],
      "metadata": {
        "colab": {
          "base_uri": "https://localhost:8080/"
        },
        "id": "Fa6J-PO4sSnq",
        "outputId": "702edc58-d786-4ade-b3bd-5adb0728bc81"
      },
      "execution_count": null,
      "outputs": [
        {
          "output_type": "stream",
          "name": "stdout",
          "text": [
            "Writing Conv1D.cu\n"
          ]
        }
      ]
    },
    {
      "cell_type": "code",
      "source": [
        "%%shell\n",
        "nvcc Conv1D.cu -o Conv1D\n",
        "nvprof ./Conv1D"
      ],
      "metadata": {
        "colab": {
          "base_uri": "https://localhost:8080/"
        },
        "id": "uaN7ng5jsV--",
        "outputId": "4fdf8846-7415-4e51-aafd-fe3ff99e5841"
      },
      "execution_count": null,
      "outputs": [
        {
          "output_type": "stream",
          "name": "stdout",
          "text": [
            "==1340== NVPROF is profiling process 1340, command: ./Conv1D\n",
            "*** function = Conv1D\n",
            "numElements = 268435456\n",
            "numBlocks = 262144, numThreads = 1024\n",
            "Error count (CUDA Program): 0\n",
            "First 20 elements: \n",
            "2.00\n",
            "2.00\n",
            "2.00\n",
            "2.00\n",
            "2.00\n",
            "2.00\n",
            "2.00\n",
            "2.00\n",
            "2.00\n",
            "2.00\n",
            "2.00\n",
            "2.00\n",
            "2.00\n",
            "2.00\n",
            "2.00\n",
            "2.00\n",
            "2.00\n",
            "2.00\n",
            "2.00\n",
            "2.00\n",
            "...\n",
            "...\n",
            "...\n",
            "Last 20 elements: \n",
            "2.00\n",
            "2.00\n",
            "2.00\n",
            "2.00\n",
            "2.00\n",
            "2.00\n",
            "2.00\n",
            "2.00\n",
            "2.00\n",
            "2.00\n",
            "2.00\n",
            "2.00\n",
            "2.00\n",
            "2.00\n",
            "2.00\n",
            "2.00\n",
            "2.00\n",
            "2.00\n",
            "0.00\n",
            "0.00\n",
            "==1340== Profiling application: ./Conv1D\n",
            "==1340== Profiling result:\n",
            "            Type  Time(%)      Time     Calls       Avg       Min       Max  Name\n",
            " GPU activities:  100.00%  978.73ms         1  978.73ms  978.73ms  978.73ms  Conv1D(unsigned long, float*, float*)\n",
            "      API calls:   68.96%  975.58ms         1  975.58ms  975.58ms  975.58ms  cudaDeviceSynchronize\n",
            "                   11.56%  163.54ms         2  81.768ms  81.558ms  81.978ms  cudaFree\n",
            "                   10.76%  152.28ms         2  76.138ms  70.112us  152.21ms  cudaMallocManaged\n",
            "                    8.64%  122.22ms         1  122.22ms  122.22ms  122.22ms  cudaLaunchKernel\n",
            "                    0.05%  763.73us         1  763.73us  763.73us  763.73us  cuDeviceGetPCIBusId\n",
            "                    0.02%  233.75us       114  2.0500us     179ns  84.370us  cuDeviceGetAttribute\n",
            "                    0.00%  21.230us         1  21.230us  21.230us  21.230us  cuDeviceGetName\n",
            "                    0.00%  2.3420us         1  2.3420us  2.3420us  2.3420us  cudaGetDevice\n",
            "                    0.00%  2.0670us         3     689ns     284ns  1.2990us  cuDeviceGetCount\n",
            "                    0.00%  1.1230us         2     561ns     285ns     838ns  cuDeviceGet\n",
            "                    0.00%     789ns         1     789ns     789ns     789ns  cuDeviceTotalMem\n",
            "                    0.00%     587ns         1     587ns     587ns     587ns  cuModuleGetLoadingMode\n",
            "                    0.00%     432ns         1     432ns     432ns     432ns  cuDeviceGetUuid\n",
            "\n",
            "==1340== Unified Memory profiling result:\n",
            "Device \"Tesla T4 (0)\"\n",
            "   Count  Avg Size  Min Size  Max Size  Total Size  Total Time  Name\n",
            "    9152  55.903KB  4.0000KB  0.9961MB  499.6367MB  65.59645ms  Host To Device\n",
            "   12286  170.69KB  4.0000KB  0.9961MB  1.999939GB  185.2416ms  Device To Host\n",
            "    3194         -         -         -           -  759.9876ms  Gpu page fault groups\n",
            "Total CPU Page faults: 9216\n"
          ]
        },
        {
          "output_type": "execute_result",
          "data": {
            "text/plain": []
          },
          "metadata": {},
          "execution_count": 2
        }
      ]
    },
    {
      "cell_type": "markdown",
      "source": [
        "## Prefetching of Data with Memory Advise"
      ],
      "metadata": {
        "id": "9NvJ3Xk85TUk"
      }
    },
    {
      "cell_type": "code",
      "source": [
        "%%writefile cuda_memadvise_convolution.cu\n",
        "\n",
        "#include <stdio.h>\n",
        "#include <stdlib.h>\n",
        "\n",
        "//CUDA convolution kernel\n",
        "__global__\n",
        "void cuda_convolution_withmem(size_t n, float *out, float *in){\n",
        "    int k;\n",
        "    int index = blockIdx.x * blockDim.x + threadIdx.x;\n",
        "    int stride = blockDim.x * gridDim.x;\n",
        "\n",
        "    for (k = index; k < n-2; k += stride)\n",
        "       out[k]= (in[k]+ in[k+1]+in[k+2])/3.0f;\n",
        "}\n",
        "\n",
        "\n",
        "int main(){\n",
        "  const size_t ARRAY_SIZE = 1<<28;\n",
        "  const size_t ARRAY_BYTES = ARRAY_SIZE * sizeof(float);\n",
        "  const size_t numOfLoops = 30;\n",
        "\n",
        "  // declare array\n",
        "    float *in, *out;\n",
        "    cudaMallocManaged(&in, ARRAY_BYTES);\n",
        "    cudaMallocManaged(&out, ARRAY_BYTES);\n",
        "\n",
        "  //get GPU id\n",
        "    int device = -1;\n",
        "    cudaGetDevice(&device);\n",
        "\n",
        "  // memory advise\n",
        "   cudaMemAdvise(in, ARRAY_BYTES, cudaMemAdviseSetPreferredLocation, cudaCpuDeviceId);\n",
        "   cudaMemAdvise(in, ARRAY_BYTES, cudaMemAdviseSetReadMostly, cudaCpuDeviceId);\n",
        "\n",
        "  //\"prefetch data\" to create CPU page memory\n",
        "    cudaMemPrefetchAsync(in,ARRAY_BYTES,cudaCpuDeviceId,NULL);\n",
        "  //\"prefetch data\" to create GPU page memory\n",
        "    cudaMemPrefetchAsync(out,ARRAY_BYTES,device,NULL);\n",
        "\n",
        "  // initialize array\n",
        "  for (size_t i=0; i<ARRAY_SIZE; i++)\n",
        "     in[i] = i % 3 + 1.0;\n",
        "\n",
        "  // prefetch from CPU to GPU\n",
        "  cudaMemPrefetchAsync(in,ARRAY_BYTES,device,NULL);\n",
        "\n",
        "  // CUDA kernel\n",
        "    size_t numThreads = 1024;\n",
        "    size_t numBlocks = (ARRAY_SIZE + numThreads-1) / numThreads;\n",
        "\n",
        "  printf(\"\\n***** Function = 1D Convolution implementation in CUDA with MemAdvise\\n\");\n",
        "  printf(\"numElements = %lu\\n\", ARRAY_SIZE);\n",
        "  printf(\"numBlocks = %lu, numThreads = %lu \\n\",numBlocks, numThreads);\n",
        "    for (size_t i=0; i<numOfLoops;i++)\n",
        "      cuda_convolution_withmem <<<numBlocks, numThreads>>> (ARRAY_SIZE,out,in);\n",
        "\n",
        "  // synchronize GPU with CPU\n",
        "    cudaDeviceSynchronize();\n",
        "\n",
        "  // prefetch from GPU to CPU\n",
        "  cudaMemPrefetchAsync(out,ARRAY_BYTES,cudaCpuDeviceId,NULL);\n",
        "\n",
        "  // error checking routine\n",
        "    size_t err_count = 0;\n",
        "    for (size_t i=0; i<ARRAY_SIZE-2; i++){\n",
        "      if((in[i]+ in[i+1]+in[i+2])/3.0f != out[i])\n",
        "        err_count++;\n",
        "    }\n",
        "\n",
        "\n",
        "  //Displays First 20 Elements\n",
        "  printf(\"First 20 elements: \\n\");\n",
        "  for (int i = 0; i < 20; i++){\n",
        "    printf(\"%.2f\\n\", out[i]);\n",
        "  }\n",
        "  printf(\"...\\n...\\n...\\n\");\n",
        "\n",
        "\n",
        "  //Displays Last 20 Elements\n",
        "  printf(\"Last 20 elements: \\n\");\n",
        "  for (int i = ARRAY_SIZE-20; i < ARRAY_SIZE; i++){\n",
        "    printf(\"%.2f\\n\", out[i]);\n",
        "  }\n",
        "\n",
        "\n",
        "  printf(\"Error count (Prefetch & MemAdvise): %lu\\n\", err_count);\n",
        "\n",
        "  //free memory\n",
        "    cudaFree(in);\n",
        "    cudaFree(out);\n",
        "}"
      ],
      "metadata": {
        "colab": {
          "base_uri": "https://localhost:8080/"
        },
        "id": "DRX9J3ywdV3f",
        "outputId": "64611745-9915-4c6f-def3-8cf46650db19"
      },
      "execution_count": null,
      "outputs": [
        {
          "output_type": "stream",
          "name": "stdout",
          "text": [
            "Overwriting cuda_memadvise_convolution.cu\n"
          ]
        }
      ]
    },
    {
      "cell_type": "code",
      "source": [
        "%%shell\n",
        "nvcc cuda_memadvise_convolution.cu -o cuda_memadvise_convolution"
      ],
      "metadata": {
        "colab": {
          "base_uri": "https://localhost:8080/"
        },
        "id": "ociY7fsrfB_N",
        "outputId": "2c345331-d262-4c66-bd34-8ca3573b6287"
      },
      "execution_count": null,
      "outputs": [
        {
          "output_type": "execute_result",
          "data": {
            "text/plain": []
          },
          "metadata": {},
          "execution_count": 7
        }
      ]
    },
    {
      "cell_type": "code",
      "source": [
        "%%shell\n",
        "nvprof ./cuda_memadvise_convolution"
      ],
      "metadata": {
        "colab": {
          "base_uri": "https://localhost:8080/"
        },
        "id": "yyMVPdLsfDiM",
        "outputId": "81a42ff1-4598-4d09-c8e1-bce9144c18fb"
      },
      "execution_count": null,
      "outputs": [
        {
          "output_type": "stream",
          "name": "stdout",
          "text": [
            "==1752== NVPROF is profiling process 1752, command: ./cuda_memadvise_convolution\n",
            "\n",
            "***** Function = 1D Convolution implementation in CUDA with MemAdvise\n",
            "numElements = 268435456\n",
            "numBlocks = 262144, numThreads = 1024 \n",
            "First 20 elements: \n",
            "2.00\n",
            "2.00\n",
            "2.00\n",
            "2.00\n",
            "2.00\n",
            "2.00\n",
            "2.00\n",
            "2.00\n",
            "2.00\n",
            "2.00\n",
            "2.00\n",
            "2.00\n",
            "2.00\n",
            "2.00\n",
            "2.00\n",
            "2.00\n",
            "2.00\n",
            "2.00\n",
            "2.00\n",
            "2.00\n",
            "...\n",
            "...\n",
            "...\n",
            "Last 20 elements: \n",
            "2.00\n",
            "2.00\n",
            "2.00\n",
            "2.00\n",
            "2.00\n",
            "2.00\n",
            "2.00\n",
            "2.00\n",
            "2.00\n",
            "2.00\n",
            "2.00\n",
            "2.00\n",
            "2.00\n",
            "2.00\n",
            "2.00\n",
            "2.00\n",
            "2.00\n",
            "2.00\n",
            "0.00\n",
            "0.00\n",
            "Error count (Data Initialization as a CUDA Kernel): 0\n",
            "==1752== Profiling application: ./cuda_memadvise_convolution\n",
            "==1752== Profiling result:\n",
            "            Type  Time(%)      Time     Calls       Avg       Min       Max  Name\n",
            " GPU activities:  100.00%  309.98ms        30  10.333ms  8.8237ms  14.855ms  cuda_convolution_withmem(unsigned long, float*, float*)\n",
            "      API calls:   46.95%  435.66ms         4  108.92ms  4.7047ms  237.30ms  cudaMemPrefetchAsync\n",
            "                   33.39%  309.89ms         1  309.89ms  309.89ms  309.89ms  cudaDeviceSynchronize\n",
            "                   12.16%  112.81ms         2  56.406ms  53.299us  112.76ms  cudaMallocManaged\n",
            "                    7.44%  69.034ms         2  34.517ms  29.463ms  39.571ms  cudaFree\n",
            "                    0.04%  392.72us        30  13.090us  3.4670us  272.70us  cudaLaunchKernel\n",
            "                    0.02%  142.88us       114  1.2530us     136ns  56.853us  cuDeviceGetAttribute\n",
            "                    0.00%  40.577us         2  20.288us  2.7620us  37.815us  cudaMemAdvise\n",
            "                    0.00%  11.600us         1  11.600us  11.600us  11.600us  cuDeviceGetName\n",
            "                    0.00%  8.9530us         1  8.9530us  8.9530us  8.9530us  cuDeviceGetPCIBusId\n",
            "                    0.00%  1.4640us         3     488ns     180ns  1.0330us  cuDeviceGetCount\n",
            "                    0.00%  1.4640us         1  1.4640us  1.4640us  1.4640us  cudaGetDevice\n",
            "                    0.00%     861ns         2     430ns     163ns     698ns  cuDeviceGet\n",
            "                    0.00%     447ns         1     447ns     447ns     447ns  cuModuleGetLoadingMode\n",
            "                    0.00%     425ns         1     425ns     425ns     425ns  cuDeviceTotalMem\n",
            "                    0.00%     232ns         1     232ns     232ns     232ns  cuDeviceGetUuid\n",
            "\n",
            "==1752== Unified Memory profiling result:\n",
            "Device \"Tesla T4 (0)\"\n",
            "   Count  Avg Size  Min Size  Max Size  Total Size  Total Time  Name\n",
            "     512  2.0000MB  2.0000MB  2.0000MB  1.000000GB  88.96405ms  Host To Device\n",
            "     512  2.0000MB  2.0000MB  2.0000MB  1.000000GB  81.99042ms  Device To Host\n"
          ]
        },
        {
          "output_type": "execute_result",
          "data": {
            "text/plain": []
          },
          "metadata": {},
          "execution_count": 8
        }
      ]
    },
    {
      "cell_type": "markdown",
      "source": [
        "## Data Initialization in CUDA Kernel"
      ],
      "metadata": {
        "id": "LGZ0YZ865bt5"
      }
    },
    {
      "cell_type": "code",
      "source": [
        "%%writefile DATAINIT_1DConv.cu\n",
        "\n",
        "#include <stdio.h>\n",
        "#include <stdlib.h>\n",
        "\n",
        "\n",
        "__global__\n",
        "\n",
        "void initData(size_t n, float* vec){\n",
        "  int index = blockIdx.x * blockDim.x + threadIdx.x;\n",
        "  int stride = blockDim.x * gridDim.x;\n",
        "\n",
        "  for(int i = index;i<n;i += stride)\n",
        "  {\n",
        "    vec[i] = (float) (i % 3 + 1.0);\n",
        "  }\n",
        "}\n",
        "\n",
        "__global__\n",
        "void conv1D_kernel(size_t n, float* vec, float* out){\n",
        "  int index = blockIdx.x * blockDim.x + threadIdx.x;\n",
        "  int stride = blockDim.x * gridDim.x;\n",
        "  for(int i = index;i<n-2;i += stride)\n",
        "  {\n",
        "    out[i] = (vec[i] + vec[i+1] + vec[i+2])/3.0f;\n",
        "  }\n",
        "}\n",
        "\n",
        "\n",
        "int main()\n",
        "{\n",
        "  //Declare Array Size and Array Bytes\n",
        "  const size_t ARRAY_SIZE = 1<<28;\n",
        "  const size_t ARRAY_BYTES = ARRAY_SIZE * (sizeof(float));\n",
        "\n",
        "  //Declare Amount of Loops\n",
        "  const int loops = 30;\n",
        "\n",
        "  //Declare pointers for input and output vectors\n",
        "  float *in,*out;\n",
        "\n",
        "  //Allocates the memory for the input and output\n",
        "  cudaMallocManaged(&in, ARRAY_BYTES);\n",
        "  cudaMallocManaged(&out, ARRAY_BYTES);\n",
        "\n",
        "  //Declares the number of blocks and threads\n",
        "  size_t numThreads = 1024;\n",
        "  size_t numBlocks = (ARRAY_SIZE + numThreads-1) / numThreads;\n",
        "\n",
        "  //Initializes Data in the CUDA Kernel\n",
        "  initData<<<numBlocks,numThreads>>>(ARRAY_SIZE, in);\n",
        "\n",
        "\n",
        "  printf(\"*** function = Float Average of 3\\n\");\n",
        "  printf(\"numElements = %lu\\n\", ARRAY_SIZE);\n",
        "  printf(\"numBlocks = %lu, numThreads = %lu \\n\",numBlocks, numThreads);\n",
        "  for (size_t i=0; i<loops;i++){\n",
        "\n",
        "    //Calls the function to do the convolution\n",
        "    conv1D_kernel<<<numBlocks,numThreads>>>(ARRAY_SIZE, in, out); //asynchronous\n",
        "\n",
        "  }\n",
        "\n",
        "  //barrier\n",
        "    cudaDeviceSynchronize();\n",
        "\n",
        "//error checking\n",
        "  size_t err_count = 0;\n",
        "  for (int i = 0; i<ARRAY_SIZE-2; i++){\n",
        "    if (out[i] != (in[i]+in[i+1]+in[i+2])/3.0f){\n",
        "      err_count+=1;\n",
        "    }\n",
        "  }\n",
        "\n",
        "  //Displays First 20 Elements\n",
        "  printf(\"First 20 elements: \\n\");\n",
        "  for (int i = 0; i < 20; i++){\n",
        "    printf(\"%.2f\\n\", out[i]);\n",
        "  }\n",
        "  printf(\"...\\n...\\n...\\n\");\n",
        "\n",
        "\n",
        "  //Displays Last 20 Elements\n",
        "  printf(\"Last 20 elements: \\n\");\n",
        "  for (int i = ARRAY_SIZE-20; i < ARRAY_SIZE; i++){\n",
        "    printf(\"%.2f\\n\", out[i]);\n",
        "  }\n",
        "\n",
        "\n",
        "  printf(\"Error count (Data Initialization as a CUDA Kernel): %lu\\n\", err_count);\n",
        "  //expected output: all cells should be equal to 2.0\n",
        "\n",
        "\n",
        "  cudaFree(in);\n",
        "  cudaFree(out);\n",
        "\n",
        "  return 0;\n",
        "}\n",
        "\n"
      ],
      "metadata": {
        "colab": {
          "base_uri": "https://localhost:8080/"
        },
        "id": "7tTGx51bf1aP",
        "outputId": "5bfdd68c-7929-4d1c-f4c2-96f20d630977"
      },
      "execution_count": null,
      "outputs": [
        {
          "output_type": "stream",
          "name": "stdout",
          "text": [
            "Overwriting DATAINIT_1DConv.cu\n"
          ]
        }
      ]
    },
    {
      "cell_type": "code",
      "source": [
        "%%shell\n",
        "nvcc DATAINIT_1DConv.cu -o DATAINIT_1DConv\n",
        "nvprof ./DATAINIT_1DConv"
      ],
      "metadata": {
        "colab": {
          "base_uri": "https://localhost:8080/"
        },
        "id": "b0y_gLk0YHyB",
        "outputId": "1d6b7bc0-f0c8-47cb-90c7-1e1b335310e1"
      },
      "execution_count": null,
      "outputs": [
        {
          "output_type": "stream",
          "name": "stdout",
          "text": [
            "==2062== NVPROF is profiling process 2062, command: ./DATAINIT_1DConv\n",
            "*** function = Float Average of 3\n",
            "numElements = 268435456\n",
            "numBlocks = 262144, numThreads = 1024 \n",
            "First 20 elements: \n",
            "2.00\n",
            "2.00\n",
            "2.00\n",
            "2.00\n",
            "2.00\n",
            "2.00\n",
            "2.00\n",
            "2.00\n",
            "2.00\n",
            "2.00\n",
            "2.00\n",
            "2.00\n",
            "2.00\n",
            "2.00\n",
            "2.00\n",
            "2.00\n",
            "2.00\n",
            "2.00\n",
            "2.00\n",
            "2.00\n",
            "...\n",
            "...\n",
            "...\n",
            "Last 20 elements: \n",
            "2.00\n",
            "2.00\n",
            "2.00\n",
            "2.00\n",
            "2.00\n",
            "2.00\n",
            "2.00\n",
            "2.00\n",
            "2.00\n",
            "2.00\n",
            "2.00\n",
            "2.00\n",
            "2.00\n",
            "2.00\n",
            "2.00\n",
            "2.00\n",
            "2.00\n",
            "2.00\n",
            "0.00\n",
            "0.00\n",
            "Error count (Data Initialization as a CUDA Kernel): 0\n",
            "==2062== Profiling application: ./DATAINIT_1DConv\n",
            "==2062== Profiling result:\n",
            "            Type  Time(%)      Time     Calls       Avg       Min       Max  Name\n",
            " GPU activities:   69.64%  484.93ms        30  16.164ms  8.7951ms  229.69ms  conv1D_kernel(unsigned long, float*, float*)\n",
            "                   30.36%  211.38ms         1  211.38ms  211.38ms  211.38ms  initData(unsigned long, float*)\n",
            "      API calls:   70.76%  696.14ms         1  696.14ms  696.14ms  696.14ms  cudaDeviceSynchronize\n",
            "                   17.64%  173.59ms         2  86.797ms  77.361ms  96.233ms  cudaFree\n",
            "                   11.54%  113.50ms         2  56.749ms  71.085us  113.43ms  cudaMallocManaged\n",
            "                    0.05%  457.01us        31  14.742us  5.1640us  267.88us  cudaLaunchKernel\n",
            "                    0.01%  146.23us       114  1.2820us     135ns  58.319us  cuDeviceGetAttribute\n",
            "                    0.00%  11.581us         1  11.581us  11.581us  11.581us  cuDeviceGetName\n",
            "                    0.00%  5.6550us         1  5.6550us  5.6550us  5.6550us  cuDeviceGetPCIBusId\n",
            "                    0.00%  2.3930us         3     797ns     194ns  1.8470us  cuDeviceGetCount\n",
            "                    0.00%  1.0310us         2     515ns     213ns     818ns  cuDeviceGet\n",
            "                    0.00%     426ns         1     426ns     426ns     426ns  cuModuleGetLoadingMode\n",
            "                    0.00%     362ns         1     362ns     362ns     362ns  cuDeviceTotalMem\n",
            "                    0.00%     228ns         1     228ns     228ns     228ns  cuDeviceGetUuid\n",
            "\n",
            "==2062== Unified Memory profiling result:\n",
            "Device \"Tesla T4 (0)\"\n",
            "   Count  Avg Size  Min Size  Max Size  Total Size  Total Time  Name\n",
            "   12288  170.67KB  4.0000KB  0.9961MB  2.000000GB  183.1379ms  Device To Host\n",
            "    4488         -         -         -           -  446.5102ms  Gpu page fault groups\n",
            "Total CPU Page faults: 6144\n"
          ]
        },
        {
          "output_type": "execute_result",
          "data": {
            "text/plain": []
          },
          "metadata": {},
          "execution_count": 12
        }
      ]
    },
    {
      "cell_type": "markdown",
      "source": [
        "## Old Data Transfer Method"
      ],
      "metadata": {
        "id": "pYPfPPXA5gs5"
      }
    },
    {
      "cell_type": "code",
      "source": [
        "%%writefile OLD_1DConv.cu\n",
        "\n",
        "#include <stdio.h>\n",
        "\n",
        "__global__\n",
        "void Conv1D(size_t n, float* in, float* out){\n",
        "\n",
        "  int idx = blockIdx.x * blockDim.x + threadIdx.x;\n",
        "  int stride = blockDim.x * gridDim.x;\n",
        "\n",
        "  for (int i = idx; i < n-2; i+=stride){\n",
        "    out[i] = (in[i] + in[i+1] + in[i+2])/3.0f;\n",
        "  }\n",
        "}\n",
        "\n",
        "int main(){\n",
        "\n",
        "  const size_t ARRAY_SIZE = 1<<28;\n",
        "  const size_t ARRAY_BYTES = ARRAY_SIZE * (sizeof(float));\n",
        "  const int loops = 30;\n",
        "\n",
        "  //Allocate input and output vectors in host memory\n",
        "  float* h_in = (float*)malloc(ARRAY_BYTES);\n",
        "  float* h_out = (float*)malloc(ARRAY_BYTES);\n",
        "\n",
        "  //initialize values\n",
        "  for (int i = 0; i < ARRAY_SIZE; i++){\n",
        "    h_in[i] = (float)(i%3+1);\n",
        "    //range of values 1-3\n",
        "  }\n",
        "\n",
        "  //Allocate vectors in device memory\n",
        "  float* d_in;\n",
        "  cudaMalloc(&d_in, ARRAY_BYTES);\n",
        "  float* d_out;\n",
        "  cudaMalloc(&d_out, ARRAY_BYTES);\n",
        "\n",
        "  //Copy input vectors from host memory to device memory\n",
        "  cudaMemcpy(d_in, h_in, ARRAY_BYTES, cudaMemcpyHostToDevice);\n",
        "\n",
        "  //invoke kernel\n",
        "  size_t numThreads = 1024;\n",
        "  size_t numBlocks = (ARRAY_SIZE + numThreads - 1) / numThreads;\n",
        "\n",
        "  for (int i = 0; i < loops; i++){\n",
        "     Conv1D<<<numBlocks, numThreads>>>(ARRAY_SIZE, d_in, d_out);\n",
        "  }\n",
        "\n",
        "\n",
        "  //Copy result from device memory to host memory\n",
        "  cudaMemcpy(h_out, d_out, ARRAY_BYTES, cudaMemcpyDeviceToHost);\n",
        "\n",
        "  printf(\"First 10 elements: \\n\");\n",
        "  for (int i = 0; i < 10; i++){\n",
        "    printf(\"%.2f\\n\", h_out[i]);\n",
        "  }\n",
        "  printf(\"...\\n...\\n...\\n\");\n",
        "\n",
        "  printf(\"Last 10 elements: \\n\");\n",
        "  for (int i = ARRAY_SIZE-1; i >ARRAY_SIZE-11; i--){\n",
        "    printf(\"%.2f\\n\", h_out[i]);\n",
        "  }\n",
        "\n",
        "\n",
        "  cudaFree(d_in);\n",
        "  cudaFree(d_out);\n",
        "  free (h_in);\n",
        "  free (h_out);\n",
        "\n",
        "  return 0;\n",
        "}\n"
      ],
      "metadata": {
        "colab": {
          "base_uri": "https://localhost:8080/"
        },
        "id": "pUfci-iC5tLu",
        "outputId": "9fa76aaa-1a8d-4360-ed80-8c8f02bae326"
      },
      "execution_count": null,
      "outputs": [
        {
          "output_type": "stream",
          "name": "stdout",
          "text": [
            "Overwriting OLD_1DConv.cu\n"
          ]
        }
      ]
    },
    {
      "cell_type": "code",
      "source": [
        "%%shell\n",
        "nvcc OLD_1DConv.cu -o OLD_1DConv -arch=sm_75"
      ],
      "metadata": {
        "colab": {
          "base_uri": "https://localhost:8080/"
        },
        "id": "eQHHdMC8_duG",
        "outputId": "71b5961b-0312-47f4-8502-cdd666180a7c"
      },
      "execution_count": null,
      "outputs": [
        {
          "output_type": "execute_result",
          "data": {
            "text/plain": []
          },
          "metadata": {},
          "execution_count": 6
        }
      ]
    },
    {
      "cell_type": "code",
      "source": [
        "%%shell\n",
        "nvprof ./OLD_1DConv"
      ],
      "metadata": {
        "colab": {
          "base_uri": "https://localhost:8080/"
        },
        "id": "3X26PuFIAKFf",
        "outputId": "33bf68e6-0639-47bf-b023-e668032fc241"
      },
      "execution_count": null,
      "outputs": [
        {
          "output_type": "stream",
          "name": "stdout",
          "text": [
            "==851== NVPROF is profiling process 851, command: ./OLD_1DConv\n",
            "First 10 elements: \n",
            "2.00\n",
            "2.00\n",
            "2.00\n",
            "2.00\n",
            "2.00\n",
            "2.00\n",
            "2.00\n",
            "2.00\n",
            "2.00\n",
            "2.00\n",
            "...\n",
            "...\n",
            "...\n",
            "Last 10 elements: \n",
            "0.00\n",
            "0.00\n",
            "2.00\n",
            "2.00\n",
            "2.00\n",
            "2.00\n",
            "2.00\n",
            "2.00\n",
            "2.00\n",
            "2.00\n",
            "==851== Profiling application: ./OLD_1DConv\n",
            "==851== Profiling result:\n",
            "            Type  Time(%)      Time     Calls       Avg       Min       Max  Name\n",
            " GPU activities:   57.11%  768.28ms         1  768.28ms  768.28ms  768.28ms  [CUDA memcpy DtoH]\n",
            "                   25.85%  347.72ms        30  11.591ms  8.8083ms  14.774ms  Conv1D(unsigned long, float*, float*)\n",
            "                   17.04%  229.31ms         1  229.31ms  229.31ms  229.31ms  [CUDA memcpy HtoD]\n",
            "      API calls:   87.69%  1.34680s         2  673.40ms  229.48ms  1.11732s  cudaMemcpy\n",
            "                   12.07%  185.30ms         2  92.650ms  143.29us  185.16ms  cudaMalloc\n",
            "                    0.21%  3.2557ms         2  1.6279ms  654.96us  2.6008ms  cudaFree\n",
            "                    0.02%  312.61us        30  10.420us  3.3790us  194.55us  cudaLaunchKernel\n",
            "                    0.01%  135.85us       114  1.1910us     140ns  55.004us  cuDeviceGetAttribute\n",
            "                    0.00%  11.189us         1  11.189us  11.189us  11.189us  cuDeviceGetName\n",
            "                    0.00%  5.2550us         1  5.2550us  5.2550us  5.2550us  cuDeviceGetPCIBusId\n",
            "                    0.00%  1.3570us         3     452ns     196ns     885ns  cuDeviceGetCount\n",
            "                    0.00%     905ns         2     452ns     170ns     735ns  cuDeviceGet\n",
            "                    0.00%     475ns         1     475ns     475ns     475ns  cuModuleGetLoadingMode\n",
            "                    0.00%     467ns         1     467ns     467ns     467ns  cuDeviceTotalMem\n",
            "                    0.00%     368ns         1     368ns     368ns     368ns  cuDeviceGetUuid\n"
          ]
        },
        {
          "output_type": "execute_result",
          "data": {
            "text/plain": []
          },
          "metadata": {},
          "execution_count": 7
        }
      ]
    },
    {
      "cell_type": "markdown",
      "source": [
        "# References\n",
        "- https://docs.nvidia.com/cuda/cuda-c-programming-guide/\n",
        "- https://stackoverflow.com/questions/74050524/what-does-the-gpu-architecture-arch-flag-of-nvcc-do\n"
      ],
      "metadata": {
        "id": "z_TYcjcINJxN"
      }
    }
  ]
}